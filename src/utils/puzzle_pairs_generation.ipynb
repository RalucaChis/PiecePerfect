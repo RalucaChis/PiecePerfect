{
  "nbformat": 4,
  "nbformat_minor": 0,
  "metadata": {
    "colab": {
      "provenance": [],
      "collapsed_sections": [
        "fFzdnHTM9f3A",
        "XxGiuOwFoRgj",
        "fYJuyIDkokA7",
        "2I8EQygO3DJS",
        "N2uHGbgIqW4C",
        "KQrreNvo-bIu"
      ]
    },
    "kernelspec": {
      "name": "python3",
      "display_name": "Python 3"
    },
    "language_info": {
      "name": "python"
    }
  },
  "cells": [
    {
      "cell_type": "markdown",
      "source": [
        "INFO: This notebook is used for generating match/non-match pairs of puzzle pieces. It was created for Google Colab."
      ],
      "metadata": {
        "id": "tc1Kgl8tcOjt"
      }
    },
    {
      "cell_type": "markdown",
      "source": [
        "### INSTALL&IMPORT"
      ],
      "metadata": {
        "id": "fFzdnHTM9f3A"
      }
    },
    {
      "cell_type": "code",
      "source": [
        "import os\n",
        "import cv2\n",
        "import numpy as np\n",
        "import pandas as pd\n",
        "from google.colab.patches import cv2_imshow "
      ],
      "metadata": {
        "id": "UofubhMq_x5m"
      },
      "execution_count": null,
      "outputs": []
    },
    {
      "cell_type": "markdown",
      "source": [
        "### Generate Pairs frozen_ sissi_ ariel_"
      ],
      "metadata": {
        "id": "XxGiuOwFoRgj"
      }
    },
    {
      "cell_type": "code",
      "source": [
        "# pair types: 0-nu; 1-topdown; 2 rightleft; 3 downtop; 4 leftright\n",
        "data = {'img1_name':[], 'img2_name':[], 'pair_type':[]}"
      ],
      "metadata": {
        "id": "IKVPqWisVKP_"
      },
      "execution_count": null,
      "outputs": []
    },
    {
      "cell_type": "code",
      "source": [
        "img_name = \"frozen_\" # frozen_ sissi_ ariel_\n",
        "matrice = [\n",
        "    [55,56,57,58,59,60],\n",
        "    [54,53,52,51,50,49],\n",
        "    [43,44,45,46,47,48],\n",
        "    [42,41,40,39,38,37],\n",
        "    [31,32,33,34,35,36],\n",
        "    [30,29,28,27,26,25],\n",
        "    [19,20,21,22,23,24],\n",
        "    [18,17,16,15,14,13],\n",
        "    [7,8,9,10,11,12],\n",
        "    [6,5,4,3,2,1],\n",
        "]"
      ],
      "metadata": {
        "id": "mO4RIKwIoZZ4"
      },
      "execution_count": null,
      "outputs": []
    },
    {
      "cell_type": "code",
      "source": [
        "def add_pair(img1_id, img2_id, rel):\n",
        "  img1_name = img_name + str(img1_id) + '.png'\n",
        "  img2_name = img_name + str(img2_id) + '.png'\n",
        "  data['img1_name'].append(img1_name)\n",
        "  data['img2_name'].append(img2_name)\n",
        "  data['pair_type'].append(rel)"
      ],
      "metadata": {
        "id": "UO38V4D9k6gs"
      },
      "execution_count": null,
      "outputs": []
    },
    {
      "cell_type": "code",
      "source": [
        "for i in range(len(matrice)):\n",
        "  for j in range(len(matrice[i])):\n",
        "    if i-1>=0:\n",
        "      add_pair(matrice[i][j], matrice[i-1][j], 1)\n",
        "    if i+1 < len(matrice):\n",
        "      add_pair(matrice[i][j], matrice[i+1][j], 3)\n",
        "    if j-1>=0:\n",
        "      add_pair(matrice[i][j], matrice[i][j-1], 4)\n",
        "    if j+1<len(matrice[i]):\n",
        "      add_pair(matrice[i][j], matrice[i][j+1], 2)\n",
        "    \n",
        "    if i+1<len(matrice) and j+1<len(matrice[i]):\n",
        "      add_pair(matrice[i][j], matrice[i+1][j+1], 0)\n",
        "    if i+1<len(matrice) and j-1>=0:\n",
        "      add_pair(matrice[i][j], matrice[i+1][j-1], 0)\n",
        "    if i+2<len(matrice):\n",
        "      add_pair(matrice[i][j], matrice[i+2][j], 0)\n",
        "      if j+1<len(matrice[i]):\n",
        "        add_pair(matrice[i][j], matrice[i+2][j+1], 0)\n",
        "      if j-1>=0:\n",
        "        add_pair(matrice[i][j], matrice[i+2][j-1], 0)"
      ],
      "metadata": {
        "id": "Gc9ANRWXZl2f"
      },
      "execution_count": null,
      "outputs": []
    },
    {
      "cell_type": "code",
      "source": [
        "field_names = ['img1_name','img2_name','pair_type']\n",
        "data = pd.DataFrame(data, columns=field_names)\n",
        "data.to_csv('./frozen_0.csv', index=False)"
      ],
      "metadata": {
        "id": "evcTJSp1fK_c"
      },
      "execution_count": null,
      "outputs": []
    },
    {
      "cell_type": "markdown",
      "source": [
        "### Generate Pairs cinderella_ snow_ rapunzel_"
      ],
      "metadata": {
        "id": "fYJuyIDkokA7"
      }
    },
    {
      "cell_type": "code",
      "source": [
        "# pair types: 0-nu; 1-topdown; 2 rightleft; 3 downtop; 4 leftright\n",
        "data = {'img1_name':[], 'img2_name':[], 'pair_type':[]}"
      ],
      "metadata": {
        "id": "Nhkbg3GJokA8"
      },
      "execution_count": null,
      "outputs": []
    },
    {
      "cell_type": "code",
      "source": [
        "img_name = \"snow_\" # cinderella_ snow_ rapunzel_\n",
        "matrice = [\n",
        "    [54,53,52,51,50,49],\n",
        "    [43,44,45,46,47,48],\n",
        "    [42,41,40,39,38,37],\n",
        "    [31,32,33,34,35,36],\n",
        "    [30,29,28,27,26,25],\n",
        "    [19,20,21,22,23,24],\n",
        "    [18,17,16,15,14,13],\n",
        "    [7,8,9,10,11,12],\n",
        "    [6,5,4,3,2,1],\n",
        "]"
      ],
      "metadata": {
        "id": "xf5HynWIokA9"
      },
      "execution_count": null,
      "outputs": []
    },
    {
      "cell_type": "code",
      "source": [
        "def add_pair(img1_id, img2_id, rel):\n",
        "  img1_name = img_name + str(img1_id) + '.png'\n",
        "  img2_name = img_name + str(img2_id) + '.png'\n",
        "  data['img1_name'].append(img1_name)\n",
        "  data['img2_name'].append(img2_name)\n",
        "  data['pair_type'].append(rel)"
      ],
      "metadata": {
        "id": "GbB_QjN3okA9"
      },
      "execution_count": null,
      "outputs": []
    },
    {
      "cell_type": "code",
      "source": [
        "for i in range(len(matrice)):\n",
        "  for j in range(len(matrice[i])):\n",
        "    if i-1>=0:\n",
        "      add_pair(matrice[i][j], matrice[i-1][j], 1)\n",
        "    if i+1 < len(matrice):\n",
        "      add_pair(matrice[i][j], matrice[i+1][j], 3)\n",
        "    if j-1>=0:\n",
        "      add_pair(matrice[i][j], matrice[i][j-1], 4)\n",
        "    if j+1<len(matrice[i]):\n",
        "      add_pair(matrice[i][j], matrice[i][j+1], 2)\n",
        "    \n",
        "    # non-match\n",
        "    if i+1<len(matrice) and j+1<len(matrice[i]):\n",
        "      add_pair(matrice[i][j], matrice[i+1][j+1], 0)\n",
        "    if i+1<len(matrice) and j-1>=0:\n",
        "      add_pair(matrice[i][j], matrice[i+1][j-1], 0)\n",
        "    if i+2<len(matrice):\n",
        "      add_pair(matrice[i][j], matrice[i+2][j], 0)\n",
        "      if j+1<len(matrice[i]):\n",
        "        add_pair(matrice[i][j], matrice[i+2][j+1], 0)\n",
        "      if j-1>=0:\n",
        "        add_pair(matrice[i][j], matrice[i+2][j-1], 0)"
      ],
      "metadata": {
        "id": "ItCe5252okA9"
      },
      "execution_count": null,
      "outputs": []
    },
    {
      "cell_type": "code",
      "source": [
        "field_names = ['img1_name','img2_name','pair_type']\n",
        "data = pd.DataFrame(data, columns=field_names)\n",
        "data.to_csv('./snow_0.csv', index=False)"
      ],
      "metadata": {
        "id": "EIOQeA2MokA9"
      },
      "execution_count": null,
      "outputs": []
    },
    {
      "cell_type": "markdown",
      "source": [
        "### Generate Pairs zana_"
      ],
      "metadata": {
        "id": "2I8EQygO3DJS"
      }
    },
    {
      "cell_type": "code",
      "source": [
        "# pair types: 0-nu; 1-topdown; 2 rightleft; 3 downtop; 4 leftright\n",
        "data = {'img1_name':[], 'img2_name':[], 'pair_type':[]}"
      ],
      "metadata": {
        "id": "O8-5O7bJ3DJT"
      },
      "execution_count": null,
      "outputs": []
    },
    {
      "cell_type": "code",
      "source": [
        "img_name = \"zana_\" \n",
        "matrice = [\n",
        "    [109,110,111,112,113,114,115,116,117,118,119,120],\n",
        "    [108,107,106,105,104,103,102,101,100,99,98,97],\n",
        "    [85,86,87,88,89,90,91,92,93,94,95,96],\n",
        "    [84,83,82,81,80,79,78,77,76,75,74,73],\n",
        "    [61,62,63,64,65,66,67,68,69,70,71,72],\n",
        "    [60,59,58,57,56,55,54,53,52,51,50,49],\n",
        "    [37,38,39,40,41,42,43,44,45,46,47,48],\n",
        "    [36,35,34,33,32,31,30,29,28,27,26,25],\n",
        "    [13,14,15,16,17,18,19,20,21,22,23,24],\n",
        "    [12,11,10,9,8,7,6,5,4,3,2,1],\n",
        "]"
      ],
      "metadata": {
        "id": "v1GCQei03DJT"
      },
      "execution_count": null,
      "outputs": []
    },
    {
      "cell_type": "code",
      "source": [
        "def add_pair(img1_id, img2_id, rel):\n",
        "  img1_name = img_name + str(img1_id) + '.png'\n",
        "  img2_name = img_name + str(img2_id) + '.png'\n",
        "  data['img1_name'].append(img1_name)\n",
        "  data['img2_name'].append(img2_name)\n",
        "  data['pair_type'].append(rel)"
      ],
      "metadata": {
        "id": "_hGKJlkY3DJT"
      },
      "execution_count": null,
      "outputs": []
    },
    {
      "cell_type": "code",
      "source": [
        "for i in range(len(matrice)):\n",
        "  for j in range(len(matrice[i])):\n",
        "    if i-1>=0:\n",
        "      add_pair(matrice[i][j], matrice[i-1][j], 1)\n",
        "    if i+1 < len(matrice):\n",
        "      add_pair(matrice[i][j], matrice[i+1][j], 3)\n",
        "    if j-1>=0:\n",
        "      add_pair(matrice[i][j], matrice[i][j-1], 4)\n",
        "    if j+1<len(matrice[i]):\n",
        "      add_pair(matrice[i][j], matrice[i][j+1], 2)\n",
        "    \n",
        "    if i+1<len(matrice) and j+1<len(matrice[i]):\n",
        "      add_pair(matrice[i][j], matrice[i+1][j+1], 0)\n",
        "    if i+1<len(matrice) and j-1>=0:\n",
        "      add_pair(matrice[i][j], matrice[i+1][j-1], 0)\n",
        "    if i+2<len(matrice):\n",
        "      add_pair(matrice[i][j], matrice[i+2][j], 0)\n",
        "      if j+1<len(matrice[i]):\n",
        "        add_pair(matrice[i][j], matrice[i+2][j+1], 0)\n",
        "      if j-1>=0:\n",
        "        add_pair(matrice[i][j], matrice[i+2][j-1], 0)"
      ],
      "metadata": {
        "id": "80Mkcnsd3DJT"
      },
      "execution_count": null,
      "outputs": []
    },
    {
      "cell_type": "code",
      "source": [
        "field_names = ['img1_name','img2_name','pair_type']\n",
        "data = pd.DataFrame(data, columns=field_names)\n",
        "data.to_csv('./zana.csv', index=False)"
      ],
      "metadata": {
        "id": "BvhmmwZX3DJT"
      },
      "execution_count": null,
      "outputs": []
    },
    {
      "cell_type": "code",
      "source": [
        "data = pd.read_csv('./zana_pairs_test.csv')\n",
        "data['match_type'] = 0\n",
        "for index, row in data.iterrows():\n",
        "  if row['pair_type'] == 0:\n",
        "    data.loc[index, 'match_type'] = 0\n",
        "  else:\n",
        "    data.loc[index, 'match_type'] = 1\n",
        "\n",
        "data.to_csv('./zana_pairs_test.csv', index=False)"
      ],
      "metadata": {
        "id": "XdoQ9tdVxMZJ"
      },
      "execution_count": null,
      "outputs": []
    },
    {
      "cell_type": "markdown",
      "source": [
        "### Split pairs in sets for train/test/val"
      ],
      "metadata": {
        "id": "N2uHGbgIqW4C"
      }
    },
    {
      "cell_type": "code",
      "source": [
        "import pandas as pd\n",
        "\n",
        "df = pd.read_csv('puzzle_pairs.csv')\n",
        "df['match_type'] = 0\n",
        "for index, row in df.iterrows():\n",
        "  if row['pair_type'] == 0:\n",
        "    df.loc[index, 'match_type'] = 0\n",
        "  else:\n",
        "    df.loc[index, 'match_type'] = 1\n",
        "\n",
        "train=int(len(df)*0.7)\n",
        "val=int(len(df)*0.9)\n",
        "print(train, val)\n",
        "print(len(df))\n",
        "print(df)"
      ],
      "metadata": {
        "id": "wawea8KTV_Uh"
      },
      "execution_count": null,
      "outputs": []
    },
    {
      "cell_type": "code",
      "source": [
        "dall = df.sample(frac=1)\n",
        "dtrain=dall[:train]\n",
        "dval= dall[train:val]\n",
        "dtest= dall[val:]"
      ],
      "metadata": {
        "id": "zTjLmrN8smib"
      },
      "execution_count": null,
      "outputs": []
    },
    {
      "cell_type": "code",
      "source": [
        "c=0\n",
        "for index, row in dtest.iterrows():\n",
        "  if row['pair_type'] == 0:\n",
        "    c+=1\n",
        "print(c)"
      ],
      "metadata": {
        "colab": {
          "base_uri": "https://localhost:8080/"
        },
        "id": "S3KDMNCVBgDc",
        "outputId": "afda147c-44a4-4e8e-d443-2b81b7a1c2b4"
      },
      "execution_count": null,
      "outputs": [
        {
          "output_type": "stream",
          "name": "stdout",
          "text": [
            "170\n"
          ]
        }
      ]
    },
    {
      "cell_type": "code",
      "source": [
        "dtrain.to_csv('puzzle_pairs_train.csv', index=False)\n",
        "dval.to_csv('puzzle_pairs_val.csv', index=False)\n",
        "dtest.to_csv('puzzle_pairs_test.csv', index=False)"
      ],
      "metadata": {
        "id": "9o_tzPQJBp39"
      },
      "execution_count": null,
      "outputs": []
    },
    {
      "cell_type": "markdown",
      "source": [
        "### Data Analysis"
      ],
      "metadata": {
        "id": "KQrreNvo-bIu"
      }
    },
    {
      "cell_type": "code",
      "source": [
        "import pandas as pd\n",
        "df = pd.read_csv('puzzle_pairs.csv')"
      ],
      "metadata": {
        "id": "gMqiutQ--agC"
      },
      "execution_count": null,
      "outputs": []
    },
    {
      "cell_type": "code",
      "source": [
        "df2 = df[(df['pair_type'] == 0) | (df['pair_type'] == 2)]\n",
        "print(df2)"
      ],
      "metadata": {
        "id": "FHXO3_nn-2so"
      },
      "execution_count": null,
      "outputs": []
    },
    {
      "cell_type": "code",
      "source": [
        "filtered_df = df2[df2['pair_type'] == 0]\n",
        "print(len(filtered_df))\n",
        "filtered_df1 = df2[df2['pair_type'] == 1]\n",
        "filtered_df2 = df2[df2['pair_type'] == 2]\n",
        "filtered_df3 = df2[df2['pair_type'] == 3]\n",
        "filtered_df4 = df2[df2['pair_type'] == 4]\n",
        "print(len(filtered_df1)+len(filtered_df2)+len(filtered_df3)+len(filtered_df4))"
      ],
      "metadata": {
        "id": "gpKc2BcqBtsn"
      },
      "execution_count": null,
      "outputs": []
    },
    {
      "cell_type": "code",
      "source": [
        "field_names = ['img1_name','img2_name','pair_type']\n",
        "data = pd.DataFrame(df2, columns=field_names)\n",
        "data.to_csv('./puzzle_pairs.csv', index=False)"
      ],
      "metadata": {
        "id": "MnvjSwSqB_1X"
      },
      "execution_count": null,
      "outputs": []
    },
    {
      "cell_type": "code",
      "source": [],
      "metadata": {
        "id": "beHwNwhXDqhG"
      },
      "execution_count": null,
      "outputs": []
    }
  ]
}