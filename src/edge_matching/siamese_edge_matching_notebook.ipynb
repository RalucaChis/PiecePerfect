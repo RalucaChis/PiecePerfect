{
 "cells": [
  {
   "cell_type": "markdown",
   "metadata": {
    "id": "TSe6hfLsMIh1"
   },
   "source": [
    "### Pre-requisites"
   ]
  },
  {
   "cell_type": "code",
   "execution_count": null,
   "metadata": {
    "colab": {
     "base_uri": "https://localhost:8080/"
    },
    "id": "j9hbKTjyEoVZ",
    "outputId": "f76098c3-5098-4fac-9589-45b2b8214eca",
    "pycharm": {
     "is_executing": true
    }
   },
   "outputs": [],
   "source": [
    "from google.colab import drive\n",
    "drive.mount('/content/gdrive')"
   ]
  },
  {
   "cell_type": "code",
   "execution_count": null,
   "metadata": {
    "id": "3O6DVk0qNYLn"
   },
   "outputs": [],
   "source": [
    "!pip install wandb -qU"
   ]
  },
  {
   "cell_type": "code",
   "execution_count": null,
   "metadata": {
    "id": "jle6924e5hlv"
   },
   "outputs": [],
   "source": [
    "!pip install --upgrade torch torchvision"
   ]
  },
  {
   "cell_type": "code",
   "execution_count": null,
   "metadata": {
    "id": "L2-G3VYL5j5K"
   },
   "outputs": [],
   "source": [
    "import os\n",
    "os.environ['CUDA_LAUNCH_BLOCKING'] = '1'\n",
    "os.environ['TORCH_USE_CUDA_DSA'] = '1'"
   ]
  },
  {
   "cell_type": "code",
   "execution_count": null,
   "metadata": {
    "colab": {
     "base_uri": "https://localhost:8080/",
     "height": 69
    },
    "id": "sdZQVM-WE0QO",
    "outputId": "f5e0439a-4010-4dac-c7f1-1f3f6ee943a9",
    "pycharm": {
     "is_executing": true
    }
   },
   "outputs": [],
   "source": [
    "import os\n",
    "import numpy as np\n",
    "import torch\n",
    "import time\n",
    "import math\n",
    "import sys\n",
    "import copy\n",
    "import datetime\n",
    "import pickle\n",
    "import errno\n",
    "from tqdm import tqdm\n",
    "from PIL import Image\n",
    "import PIL.ImageOps  \n",
    "import torchvision\n",
    "import torch.nn as nn\n",
    "import torch.nn.functional as F\n",
    "import torch.optim as optim\n",
    "from torch.optim import lr_scheduler\n",
    "import torch.backends.cudnn as cudnn\n",
    "from torchvision import datasets, models, transforms\n",
    "from torch.utils.data import Dataset, DataLoader\n",
    "import matplotlib.pyplot as plt\n",
    "import pandas as pd\n",
    "import random\n",
    "import shutil\n",
    "import cv2\n",
    "import wandb\n",
    "wandb.login()\n",
    "# c390abcd434dcb1654d8e2597e93b0f775494b47"
   ]
  },
  {
   "cell_type": "markdown",
   "metadata": {
    "id": "mhrP5H3HMqd3"
   },
   "source": [
    "### Data"
   ]
  },
  {
   "cell_type": "code",
   "execution_count": null,
   "metadata": {
    "id": "H778Q3aod2o9"
   },
   "outputs": [],
   "source": [
    "class PuzzleDataset(object):\n",
    "    def __init__(self, imgs1, imgs2, match_types, pair_types):\n",
    "        self.root = '/content/gdrive/MyDrive/puzzle_pieces'\n",
    "        self.imgs1 = imgs1\n",
    "        self.imgs2 = imgs2\n",
    "        if not torch.is_tensor(imgs1) and not torch.is_tensor(match_types):\n",
    "          self.match_types = torch.from_numpy(match_types)\n",
    "        if not torch.is_tensor(imgs1) and not torch.is_tensor(pair_types):\n",
    "          self.pair_types = torch.from_numpy(pair_types)\n",
    "        self.transform = transforms.Compose([\n",
    "            transforms.ToTensor()\n",
    "        ])\n",
    "\n",
    "    def __len__(self):\n",
    "      return len(self.imgs1)\n",
    "\n",
    "    def get_image(self, path):\n",
    "      with open(os.path.abspath(path), 'rb') as f:\n",
    "          with Image.open(f) as img:\n",
    "              return img.convert('L') \n",
    "\n",
    "    def get_rotated_90(self, path):\n",
    "      with open(os.path.abspath(path), 'rb') as f:\n",
    "        with Image.open(f) as img:\n",
    "          return img.convert('L').rotate(-90)\n",
    "\n",
    "    def get_rotated_180(self, path):\n",
    "      with open(os.path.abspath(path), 'rb') as f:\n",
    "        with Image.open(f) as img:\n",
    "          return img.convert('L').rotate(-180)\n",
    "\n",
    "    def get_rotated_270(self, path):\n",
    "      with open(os.path.abspath(path), 'rb') as f:\n",
    "        with Image.open(f) as img:\n",
    "          return img.convert('L').rotate(-270)      \n",
    "\n",
    "    # def get_image_inv(self, path):\n",
    "    #   with open(os.path.abspath(path), 'rb') as f:\n",
    "    #       with Image.open(f) as img:\n",
    "    #           return PIL.ImageOps.invert(img.convert('L'))\n",
    "\n",
    "    # def get_rotated_90_inv(self, path):\n",
    "    #   with open(os.path.abspath(path), 'rb') as f:\n",
    "    #     with Image.open(f) as img:\n",
    "    #       return PIL.ImageOps.invert(img.convert('L').rotate(-90))\n",
    "\n",
    "    # def get_rotated_180_inv(self, path):\n",
    "    #   with open(os.path.abspath(path), 'rb') as f:\n",
    "    #     with Image.open(f) as img:\n",
    "    #       return PIL.ImageOps.invert(img.convert('L').rotate(-180))\n",
    "\n",
    "    # def get_rotated_270_inv(self, path):\n",
    "    #   with open(os.path.abspath(path), 'rb') as f:\n",
    "    #     with Image.open(f) as img:\n",
    "    #       return PIL.ImageOps.invert(img.convert('L').rotate(-270))      \n",
    "             \n",
    "    def __getitem__(self, idx):\n",
    "      path_to_images = os.path.join(self.root, f'masks_crop_tight')\n",
    "      path_to_img1 = os.path.join(path_to_images, self.imgs1[idx])\n",
    "      path_to_img2 = os.path.join(path_to_images, self.imgs2[idx])\n",
    "\n",
    "      if self.pair_types[idx] == 1:\n",
    "        img1 = self.get_rotated_90(path_to_img1)\n",
    "        img2 = self.get_rotated_90(path_to_img2)\n",
    "      elif self.pair_types[idx] == 3:\n",
    "        img1 = self.get_rotated_270(path_to_img1)\n",
    "        img2 = self.get_rotated_270(path_to_img2)\n",
    "      elif self.pair_types[idx] == 4:\n",
    "        img1 = self.get_rotated_180(path_to_img1)\n",
    "        img2 = self.get_rotated_180(path_to_img2)\n",
    "      elif self.pair_types[idx] == 2:\n",
    "        img1 = self.get_image(path_to_img1)\n",
    "        img2 = self.get_image(path_to_img2)\n",
    "      else:\n",
    "        img1 = self.get_image(path_to_img1)\n",
    "        img2 = self.get_image(path_to_img2)\n",
    "      \n",
    "      img1 = self.transform(img1)\n",
    "      _,w,h = img1.size()\n",
    "      img1 = transforms.functional.crop(img1,0,int(w/2)+10,h,int(w/2)-10) # top, left, height, width\n",
    "\n",
    "      img2 = self.transform(img2)\n",
    "      _,w,h = img2.size()\n",
    "      img2 = transforms.functional.crop(img2,0,0,h,int(w/2)-10)\n",
    "      # print(path_to_img1, path_to_img2, self.pair_types[idx])\n",
    "      return img1, img2, self.match_types[idx]\n"
   ]
  },
  {
   "cell_type": "code",
   "execution_count": null,
   "metadata": {
    "id": "s9xRt2_EMpzQ"
   },
   "outputs": [],
   "source": [
    "train_df = pd.read_csv('/content/gdrive/MyDrive/puzzle_pieces/puzzle_pairs_train.csv')\n",
    "val_df = pd.read_csv('/content/gdrive/MyDrive/puzzle_pieces/puzzle_pairs_val.csv')\n",
    "test_df = pd.read_csv('/content/gdrive/MyDrive/puzzle_pieces/puzzle_pairs_test.csv')"
   ]
  },
  {
   "cell_type": "code",
   "execution_count": null,
   "metadata": {
    "id": "iZO7lI6aFtDW"
   },
   "outputs": [],
   "source": [
    "def get_img(data_df, col_img1, col_img2, col_match_type, col_pair_type):\n",
    "  img1 = data_df[col_img1].astype('string').to_numpy()\n",
    "  img2 = data_df[col_img2].astype('string').to_numpy()\n",
    "  match_type = data_df[col_match_type].astype('float').to_numpy()\n",
    "  pair_type = data_df[col_pair_type].astype('float').to_numpy()\n",
    "  return img1, img2, match_type, pair_type\n",
    "\n",
    "img1_train, img2_train, match_type_train, pair_type_train = get_img(train_df, 'img1_name', 'img2_name', 'match_type', 'pair_type')\n",
    "img1_test, img2_test, match_type_test, pair_type_test = get_img(test_df, 'img1_name', 'img2_name', 'match_type', 'pair_type')\n",
    "img1_val, img2_val, match_type_val, pair_type_val = get_img(val_df, 'img1_name', 'img2_name', 'match_type', 'pair_type')"
   ]
  },
  {
   "cell_type": "code",
   "execution_count": null,
   "metadata": {
    "id": "lxt2rSC7Fwkz"
   },
   "outputs": [],
   "source": [
    "dataset_train = PuzzleDataset(img1_train, img2_train, match_type_train, pair_type_train)\n",
    "dataset_test = PuzzleDataset(img1_test, img2_test, match_type_test, pair_type_test)\n",
    "dataset_val = PuzzleDataset(img1_val, img2_val, match_type_val, pair_type_val)\n",
    "\n",
    "dataloaders = {'train': torch.utils.data.DataLoader(dataset_train, batch_size=64, shuffle=True, num_workers=2),\n",
    "               'val': torch.utils.data.DataLoader(dataset_val, batch_size=64, shuffle=True, num_workers=2),\n",
    "               'test': torch.utils.data.DataLoader(dataset_test, batch_size=64, shuffle=True, num_workers=2)\n",
    "              }\n",
    "dataset_sizes = {'train': len(dataset_train), 'val': len(dataset_val), 'test': len(dataset_test)}"
   ]
  },
  {
   "cell_type": "code",
   "execution_count": null,
   "metadata": {
    "colab": {
     "base_uri": "https://localhost:8080/"
    },
    "id": "vSBGFZtuFEzk",
    "outputId": "06cc5d64-e7d2-431d-d4e8-72ecc8737b35"
   },
   "outputs": [
    {
     "output_type": "stream",
     "name": "stdout",
     "text": [
      "{'train': 2322, 'val': 664, 'test': 332}\n"
     ]
    }
   ],
   "source": [
    "print(dataset_sizes)"
   ]
  },
  {
   "cell_type": "code",
   "execution_count": null,
   "metadata": {
    "colab": {
     "base_uri": "https://localhost:8080/"
    },
    "id": "eDLXfMXLjGfm",
    "outputId": "55257904-8dd9-42e6-a960-d0cc55511e24"
   },
   "outputs": [
    {
     "output_type": "stream",
     "name": "stdout",
     "text": [
      "1 ariel_60.png ariel_49.png 3 1\n"
     ]
    },
    {
     "output_type": "display_data",
     "data": {
      "text/plain": [
       "<PIL.Image.Image image mode=L size=64x148 at 0x7FF9E1402F50>"
      ],
      "image/png": "[encoded data removed]"
     },
     "metadata": {}
    },
    {
     "output_type": "display_data",
     "data": {
      "text/plain": [
       "<PIL.Image.Image image mode=L size=64x148 at 0x7FF9057C3280>"
      ],
      "image/png": "[encoded data removed]"
     },
     "metadata": {}
    }
   ],
   "source": [
    "imagine=dataset_test.__getitem__(6)\n",
    "print(int(imagine[2]), test_df.loc[6][0], test_df.loc[6][1], test_df.loc[6][2], test_df.loc[6][3])\n",
    "pil_image = torchvision.transforms.ToPILImage()(imagine[0])\n",
    "pil_image.show()\n",
    "pil_image = torchvision.transforms.ToPILImage()(imagine[1])\n",
    "pil_image.show()"
   ]
  },
  {
   "cell_type": "code",
   "execution_count": null,
   "metadata": {
    "id": "sEYohXkQjSbp",
    "colab": {
     "base_uri": "https://localhost:8080/"
    },
    "outputId": "37f077a4-2070-45ac-c619-267b05803893"
   },
   "outputs": [
    {
     "output_type": "stream",
     "name": "stdout",
     "text": [
      "0 cinderella_44.png cinderella_33.png 0\n"
     ]
    },
    {
     "output_type": "display_data",
     "data": {
      "text/plain": [
       "<PIL.Image.Image image mode=L size=64x148 at 0x7FF9E21271F0>"
      ],
      "image/png": "[encoded data removed]"
     },
     "metadata": {}
    },
    {
     "output_type": "display_data",
     "data": {
      "text/plain": [
       "<PIL.Image.Image image mode=L size=64x148 at 0x7FF9E2127250>"
      ],
      "image/png": "[encoded data removed]"
     },
     "metadata": {}
    },
    {
     "output_type": "stream",
     "name": "stdout",
     "text": [
      "1 zana_41.png zana_56.png 1\n"
     ]
    },
    {
     "output_type": "display_data",
     "data": {
      "text/plain": [
       "<PIL.Image.Image image mode=L size=64x148 at 0x7FF9057C3280>"
      ],
      "image/png": "[encoded data removed]"
     },
     "metadata": {}
    },
    {
     "output_type": "display_data",
     "data": {
      "text/plain": [
       "<PIL.Image.Image image mode=L size=64x148 at 0x7FF9E2127100>"
      ],
      "image/png": "[encoded data removed]"
     },
     "metadata": {}
    },
    {
     "output_type": "stream",
     "name": "stdout",
     "text": [
      "1 frozen_50.png frozen_51.png 4\n"
     ]
    },
    {
     "output_type": "display_data",
     "data": {
      "text/plain": [
       "<PIL.Image.Image image mode=L size=64x148 at 0x7FF90577F460>"
      ],
      "image/png": "[encoded data removed]"
     },
     "metadata": {}
    },
    {
     "output_type": "display_data",
     "data": {
      "text/plain": [
       "<PIL.Image.Image image mode=L size=64x148 at 0x7FF90577F6A0>"
      ],
      "image/png": "[encoded data removed]"
     },
     "metadata": {}
    },
    {
     "output_type": "stream",
     "name": "stdout",
     "text": [
      "0 rapunzel_28.png rapunzel_20.png 0\n"
     ]
    },
    {
     "output_type": "display_data",
     "data": {
      "text/plain": [
       "<PIL.Image.Image image mode=L size=64x148 at 0x7FF9057C3550>"
      ],
      "image/png": "[encoded data removed]"
     },
     "metadata": {}
    },
    {
     "output_type": "display_data",
     "data": {
      "text/plain": [
       "<PIL.Image.Image image mode=L size=64x148 at 0x7FF9E2126980>"
      ],
      "image/png": "[encoded data removed]"
     },
     "metadata": {}
    },
    {
     "output_type": "stream",
     "name": "stdout",
     "text": [
      "1 frozen_35.png frozen_26.png 3\n"
     ]
    },
    {
     "output_type": "display_data",
     "data": {
      "text/plain": [
       "<PIL.Image.Image image mode=L size=64x148 at 0x7FF9057D0760>"
      ],
      "image/png": "[encoded data removed]"
     },
     "metadata": {}
    },
    {
     "output_type": "display_data",
     "data": {
      "text/plain": [
       "<PIL.Image.Image image mode=L size=64x148 at 0x7FF9E2127100>"
      ],
      "image/png": "[encoded data removed]"
     },
     "metadata": {}
    },
    {
     "output_type": "stream",
     "name": "stdout",
     "text": [
      "0 zana_62.png zana_38.png 0\n"
     ]
    },
    {
     "output_type": "display_data",
     "data": {
      "text/plain": [
       "<PIL.Image.Image image mode=L size=64x148 at 0x7FF9057D39D0>"
      ],
      "image/png": "[encoded data removed]"
     },
     "metadata": {}
    },
    {
     "output_type": "display_data",
     "data": {
      "text/plain": [
       "<PIL.Image.Image image mode=L size=64x148 at 0x7FF9057D0850>"
      ],
      "image/png": "[encoded data removed]"
     },
     "metadata": {}
    },
    {
     "output_type": "stream",
     "name": "stdout",
     "text": [
      "1 ariel_60.png ariel_49.png 3\n"
     ]
    },
    {
     "output_type": "display_data",
     "data": {
      "text/plain": [
       "<PIL.Image.Image image mode=L size=64x148 at 0x7FF9E2127190>"
      ],
      "image/png": "[encoded data removed]"
     },
     "metadata": {}
    },
    {
     "output_type": "display_data",
     "data": {
      "text/plain": [
       "<PIL.Image.Image image mode=L size=64x148 at 0x7FF90577F6A0>"
      ],
      "image/png": "[encoded data removed]"
     },
     "metadata": {}
    }
   ],
   "source": [
    "for i in range(7):  \n",
    "  img=dataset_test.__getitem__(i)\n",
    "  print(int(img[2]), test_df.loc[i][0], test_df.loc[i][1], test_df.loc[i][2])\n",
    "  pil_image = torchvision.transforms.ToPILImage()(img[0])\n",
    "  pil_image.show()\n",
    "  pil_image = torchvision.transforms.ToPILImage()(img[1])\n",
    "  pil_image.show()"
   ]
  },
  {
   "cell_type": "markdown",
   "metadata": {
    "id": "Dr2W_Ehcdk7p"
   },
   "source": [
    "### Define Model"
   ]
  },
  {
   "cell_type": "code",
   "execution_count": null,
   "metadata": {
    "id": "SB_c6sVmdl64"
   },
   "outputs": [],
   "source": [
    "class SiameseNetwork(nn.Module):\n",
    "    def __init__(self):\n",
    "        super(SiameseNetwork, self).__init__()\n",
    "        self.cnn1 = nn.Sequential(\n",
    "            nn.Conv2d(1, 64, kernel_size=11,stride=1),\n",
    "            nn.Conv2d(64, 64, kernel_size=11,stride=1),\n",
    "            nn.BatchNorm2d(64),\n",
    "            nn.ReLU(inplace=True),\n",
    "            nn.MaxPool2d(2, stride=2),\n",
    "\n",
    "            nn.Conv2d(64, 128, kernel_size=5,stride=1,padding=2),\n",
    "            nn.Conv2d(128, 128, kernel_size=5,stride=1,padding=2),\n",
    "            nn.BatchNorm2d(128),\n",
    "            nn.ReLU(inplace=True),\n",
    "            nn.MaxPool2d(2, stride=2),\n",
    "\n",
    "            nn.Conv2d(128,256, kernel_size=3,stride=1,padding=1),\n",
    "            nn.Conv2d(256,256, kernel_size=3,stride=1,padding=1),\n",
    "            nn.BatchNorm2d(256),\n",
    "            nn.ReLU(inplace=True),\n",
    "            nn.MaxPool2d(2, stride=2),\n",
    "        )\n",
    "\n",
    "        self.fc1 = nn.Sequential(\n",
    "            nn.Linear(20480 , 1024),\n",
    "            nn.ReLU(inplace=True), \n",
    "            # nn.Dropout(p=0.5),\n",
    "\n",
    "            nn.Linear(1024, 128),\n",
    "            nn.ReLU(inplace=True),\n",
    "            \n",
    "            nn.Linear(128,2),\n",
    "            nn.Softmax(1)\n",
    "        )    \n",
    "\n",
    "    def forward(self, input1, input2):\n",
    "        output1 = self.cnn1(input1)\n",
    "        output2 = self.cnn1(input2)\n",
    "        # print(output1.size())\n",
    "        \n",
    "        output1 = abs(output1-output2) \n",
    "        output1 = output1.view(output1.size()[0], -1)\n",
    "        output1 = self.fc1(output1)\n",
    "        return output1"
   ]
  },
  {
   "cell_type": "markdown",
   "metadata": {
    "id": "Zy6r_Q8lazrD"
   },
   "source": [
    "### Train Model"
   ]
  },
  {
   "cell_type": "code",
   "execution_count": null,
   "metadata": {
    "id": "WwG3mHtEo7ym"
   },
   "outputs": [],
   "source": [
    "def train_model(model, criterion, optimizer, scheduler, num_epochs=25):\n",
    "    since = time.time()\n",
    "\n",
    "    best_model_wts = copy.deepcopy(model.state_dict())\n",
    "    best_loss = -1\n",
    "    train_acc_history = []\n",
    "    val_acc_history = []\n",
    "    train_loss_history = []\n",
    "    val_loss_history = []\n",
    "    for epoch in range(num_epochs):\n",
    "        print(f'Epoch {epoch}/{num_epochs - 1}')\n",
    "        print('-' * 10)\n",
    "\n",
    "        # Each epoch has a training and validation phase\n",
    "        for phase in ['train', 'val']:\n",
    "            if phase == 'train':\n",
    "                model.train()  # Set model to training mode\n",
    "            else:\n",
    "                model.eval()   # Set model to evaluate mode\n",
    "\n",
    "            running_loss = 0.0\n",
    "\n",
    "            # Iterate over data.\n",
    "            for _, (inputs1, inputs2, labels) in enumerate(tqdm(dataloaders[phase])):\n",
    "                inputs1 = inputs1.to(device)\n",
    "                inputs2 = inputs2.to(device)\n",
    "                labels = labels.type(torch.LongTensor).to(device)\n",
    "                # zero the parameter gradients\n",
    "                optimizer.zero_grad()\n",
    "\n",
    "                # forward\n",
    "                # track history if only in train\n",
    "                with torch.set_grad_enabled(phase == 'train'):\n",
    "                    outputs = model(inputs1, inputs2)\n",
    "                    # labels = labels.reshape((labels.shape[0], 1))\n",
    "\n",
    "                    # log_probs = F.log_softmax(outputs, dim=1)\n",
    "                    # loss = F.nll_loss(log_probs, labels)\n",
    "\n",
    "                    loss = criterion(outputs, labels)\n",
    "                    \n",
    "                    # backward + optimize only if in training phase\n",
    "                    if phase == 'train':\n",
    "                        loss.backward()\n",
    "                        optimizer.step()\n",
    "\n",
    "                # statistics\n",
    "                running_loss += loss.item() * inputs1.size(0)\n",
    "            if phase == 'train':\n",
    "                scheduler.step()\n",
    "\n",
    "            epoch_loss = running_loss / dataset_sizes[phase]\n",
    "            if phase == 'train':\n",
    "              train_loss_history.append(float(epoch_loss))\n",
    "            else:\n",
    "              val_loss_history.append(float(epoch_loss))\n",
    "            print(f'{phase} Loss: {epoch_loss:.4f} ')\n",
    "            wandb.log({f'{phase} Epoch Loss': epoch_loss}, step=epoch) \n",
    "\n",
    "            # deep copy the model\n",
    "            if phase == 'val' and (epoch_loss < best_loss or best_loss == -1):\n",
    "                print(f'Best loss was changed from {best_loss} to', end=' ')\n",
    "                best_loss = epoch_loss\n",
    "                print(f'{best_loss}')\n",
    "                best_model_wts = copy.deepcopy(model.state_dict())\n",
    "                # torch.save(model, f\"/content/gdrive/MyDrive/models/test.pt\")\n",
    "\n",
    "        print()\n",
    "\n",
    "    time_elapsed = time.time() - since\n",
    "    print(f'Training complete in {time_elapsed // 60:.0f}m {time_elapsed % 60:.0f}s')\n",
    "    print(f'Best val Acc: {best_loss:4f}')\n",
    "\n",
    "    # load best model weights\n",
    "    model.load_state_dict(best_model_wts)\n",
    "    return model, train_acc_history, train_loss_history, val_acc_history, val_loss_history "
   ]
  },
  {
   "cell_type": "code",
   "execution_count": null,
   "metadata": {
    "colab": {
     "base_uri": "https://localhost:8080/",
     "height": 121
    },
    "id": "WSGtSmKuXdNB",
    "outputId": "449c1cd7-e2c4-4009-dfdb-c6120101c663",
    "pycharm": {
     "is_executing": true
    }
   },
   "outputs": [],
   "source": [
    "device = torch.device('cuda' if torch.cuda.is_available() else 'cpu')\n",
    "model = SiameseNetwork().to(device)\n",
    "# print(model)\n",
    "\n",
    "config_defaults = {\n",
    "  'learning_rate': 0.0001, #1e-3\n",
    "  'epochs': 30,\n",
    "}\n",
    "\n",
    "wandb.init(\n",
    "   config=config_defaults,\n",
    "   project=\"edge-match\", \n",
    "   entity=\"disertatie\",\n",
    "   name=f\"test-no-dropout\"\n",
    ")\n",
    "\n",
    "criterion = nn.CrossEntropyLoss()\n",
    "# optimizer = torch.optim.SGD(model.parameters(), lr=wandb.config.learning_rate, momentum=0.9)\n",
    "optimizer = torch.optim.Adam(model.parameters(), lr=wandb.config.learning_rate, weight_decay=0.0005)\n",
    "exp_lr_scheduler = lr_scheduler.StepLR(optimizer, step_size=7, gamma=0.1)"
   ]
  },
  {
   "cell_type": "code",
   "execution_count": null,
   "metadata": {
    "colab": {
     "base_uri": "https://localhost:8080/"
    },
    "id": "mVUy0X53mwVW",
    "outputId": "41c6564c-94c2-4a89-af70-27c5163165f7"
   },
   "outputs": [
    {
     "output_type": "stream",
     "name": "stdout",
     "text": [
      "Epoch 0/29\n",
      "----------\n"
     ]
    },
    {
     "output_type": "stream",
     "name": "stderr",
     "text": [
      "100%|██████████| 37/37 [02:33<00:00,  4.16s/it]\n"
     ]
    },
    {
     "output_type": "stream",
     "name": "stdout",
     "text": [
      "train Loss: 0.6295 \n"
     ]
    },
    {
     "output_type": "stream",
     "name": "stderr",
     "text": [
      "100%|██████████| 11/11 [00:04<00:00,  2.57it/s]\n"
     ]
    },
    {
     "output_type": "stream",
     "name": "stdout",
     "text": [
      "val Loss: 0.5419 \n",
      "Best loss was changed from -1 to 0.5418717107140875\n",
      "\n",
      "Epoch 1/29\n",
      "----------\n"
     ]
    },
    {
     "output_type": "stream",
     "name": "stderr",
     "text": [
      "100%|██████████| 37/37 [00:27<00:00,  1.35it/s]\n"
     ]
    },
    {
     "output_type": "stream",
     "name": "stdout",
     "text": [
      "train Loss: 0.5374 \n"
     ]
    },
    {
     "output_type": "stream",
     "name": "stderr",
     "text": [
      "100%|██████████| 11/11 [00:03<00:00,  2.76it/s]\n"
     ]
    },
    {
     "output_type": "stream",
     "name": "stdout",
     "text": [
      "val Loss: 0.5373 \n",
      "Best loss was changed from 0.5418717107140875 to 0.5373194609061781\n",
      "\n",
      "Epoch 2/29\n",
      "----------\n"
     ]
    },
    {
     "output_type": "stream",
     "name": "stderr",
     "text": [
      "100%|██████████| 37/37 [00:28<00:00,  1.31it/s]\n"
     ]
    },
    {
     "output_type": "stream",
     "name": "stdout",
     "text": [
      "train Loss: 0.5160 \n"
     ]
    },
    {
     "output_type": "stream",
     "name": "stderr",
     "text": [
      "100%|██████████| 11/11 [00:03<00:00,  3.07it/s]\n"
     ]
    },
    {
     "output_type": "stream",
     "name": "stdout",
     "text": [
      "val Loss: 0.5136 \n",
      "Best loss was changed from 0.5373194609061781 to 0.5135763330631945\n",
      "\n",
      "Epoch 3/29\n",
      "----------\n"
     ]
    },
    {
     "output_type": "stream",
     "name": "stderr",
     "text": [
      "100%|██████████| 37/37 [00:27<00:00,  1.34it/s]\n"
     ]
    },
    {
     "output_type": "stream",
     "name": "stdout",
     "text": [
      "train Loss: 0.5025 \n"
     ]
    },
    {
     "output_type": "stream",
     "name": "stderr",
     "text": [
      "100%|██████████| 11/11 [00:03<00:00,  3.12it/s]\n"
     ]
    },
    {
     "output_type": "stream",
     "name": "stdout",
     "text": [
      "val Loss: 0.5132 \n",
      "Best loss was changed from 0.5135763330631945 to 0.5131590833146888\n",
      "\n",
      "Epoch 4/29\n",
      "----------\n"
     ]
    },
    {
     "output_type": "stream",
     "name": "stderr",
     "text": [
      "100%|██████████| 37/37 [00:27<00:00,  1.34it/s]\n"
     ]
    },
    {
     "output_type": "stream",
     "name": "stdout",
     "text": [
      "train Loss: 0.5061 \n"
     ]
    },
    {
     "output_type": "stream",
     "name": "stderr",
     "text": [
      "100%|██████████| 11/11 [00:03<00:00,  3.09it/s]\n"
     ]
    },
    {
     "output_type": "stream",
     "name": "stdout",
     "text": [
      "val Loss: 0.5648 \n",
      "\n",
      "Epoch 5/29\n",
      "----------\n"
     ]
    },
    {
     "output_type": "stream",
     "name": "stderr",
     "text": [
      "100%|██████████| 37/37 [00:27<00:00,  1.34it/s]\n"
     ]
    },
    {
     "output_type": "stream",
     "name": "stdout",
     "text": [
      "train Loss: 0.4908 \n"
     ]
    },
    {
     "output_type": "stream",
     "name": "stderr",
     "text": [
      "100%|██████████| 11/11 [00:03<00:00,  3.10it/s]\n"
     ]
    },
    {
     "output_type": "stream",
     "name": "stdout",
     "text": [
      "val Loss: 0.5050 \n",
      "Best loss was changed from 0.5131590833146888 to 0.5049695860908692\n",
      "\n",
      "Epoch 6/29\n",
      "----------\n"
     ]
    },
    {
     "output_type": "stream",
     "name": "stderr",
     "text": [
      "100%|██████████| 37/37 [00:27<00:00,  1.34it/s]\n"
     ]
    },
    {
     "output_type": "stream",
     "name": "stdout",
     "text": [
      "train Loss: 0.4818 \n"
     ]
    },
    {
     "output_type": "stream",
     "name": "stderr",
     "text": [
      "100%|██████████| 11/11 [00:03<00:00,  3.07it/s]\n"
     ]
    },
    {
     "output_type": "stream",
     "name": "stdout",
     "text": [
      "val Loss: 0.5451 \n",
      "\n",
      "Epoch 7/29\n",
      "----------\n"
     ]
    },
    {
     "output_type": "stream",
     "name": "stderr",
     "text": [
      "100%|██████████| 37/37 [00:28<00:00,  1.32it/s]\n"
     ]
    },
    {
     "output_type": "stream",
     "name": "stdout",
     "text": [
      "train Loss: 0.4612 \n"
     ]
    },
    {
     "output_type": "stream",
     "name": "stderr",
     "text": [
      "100%|██████████| 11/11 [00:04<00:00,  2.73it/s]\n"
     ]
    },
    {
     "output_type": "stream",
     "name": "stdout",
     "text": [
      "val Loss: 0.4970 \n",
      "Best loss was changed from 0.5049695860908692 to 0.4969839360340532\n",
      "\n",
      "Epoch 8/29\n",
      "----------\n"
     ]
    },
    {
     "output_type": "stream",
     "name": "stderr",
     "text": [
      "100%|██████████| 37/37 [00:28<00:00,  1.31it/s]\n"
     ]
    },
    {
     "output_type": "stream",
     "name": "stdout",
     "text": [
      "train Loss: 0.4514 \n"
     ]
    },
    {
     "output_type": "stream",
     "name": "stderr",
     "text": [
      "100%|██████████| 11/11 [00:03<00:00,  2.93it/s]\n"
     ]
    },
    {
     "output_type": "stream",
     "name": "stdout",
     "text": [
      "val Loss: 0.4993 \n",
      "\n",
      "Epoch 9/29\n",
      "----------\n"
     ]
    },
    {
     "output_type": "stream",
     "name": "stderr",
     "text": [
      "100%|██████████| 37/37 [00:27<00:00,  1.33it/s]\n"
     ]
    },
    {
     "output_type": "stream",
     "name": "stdout",
     "text": [
      "train Loss: 0.4525 \n"
     ]
    },
    {
     "output_type": "stream",
     "name": "stderr",
     "text": [
      "100%|██████████| 11/11 [00:04<00:00,  2.40it/s]\n"
     ]
    },
    {
     "output_type": "stream",
     "name": "stdout",
     "text": [
      "val Loss: 0.4839 \n",
      "Best loss was changed from 0.4969839360340532 to 0.48391134875366487\n",
      "\n",
      "Epoch 10/29\n",
      "----------\n"
     ]
    },
    {
     "output_type": "stream",
     "name": "stderr",
     "text": [
      "100%|██████████| 37/37 [00:27<00:00,  1.36it/s]\n"
     ]
    },
    {
     "output_type": "stream",
     "name": "stdout",
     "text": [
      "train Loss: 0.4476 \n"
     ]
    },
    {
     "output_type": "stream",
     "name": "stderr",
     "text": [
      "100%|██████████| 11/11 [00:04<00:00,  2.67it/s]\n"
     ]
    },
    {
     "output_type": "stream",
     "name": "stdout",
     "text": [
      "val Loss: 0.5008 \n",
      "\n",
      "Epoch 11/29\n",
      "----------\n"
     ]
    },
    {
     "output_type": "stream",
     "name": "stderr",
     "text": [
      "100%|██████████| 37/37 [00:27<00:00,  1.35it/s]\n"
     ]
    },
    {
     "output_type": "stream",
     "name": "stdout",
     "text": [
      "train Loss: 0.4440 \n"
     ]
    },
    {
     "output_type": "stream",
     "name": "stderr",
     "text": [
      "100%|██████████| 11/11 [00:03<00:00,  2.98it/s]\n"
     ]
    },
    {
     "output_type": "stream",
     "name": "stdout",
     "text": [
      "val Loss: 0.4950 \n",
      "\n",
      "Epoch 12/29\n",
      "----------\n"
     ]
    },
    {
     "output_type": "stream",
     "name": "stderr",
     "text": [
      "100%|██████████| 37/37 [00:27<00:00,  1.35it/s]\n"
     ]
    },
    {
     "output_type": "stream",
     "name": "stdout",
     "text": [
      "train Loss: 0.4417 \n"
     ]
    },
    {
     "output_type": "stream",
     "name": "stderr",
     "text": [
      "100%|██████████| 11/11 [00:03<00:00,  3.06it/s]\n"
     ]
    },
    {
     "output_type": "stream",
     "name": "stdout",
     "text": [
      "val Loss: 0.4953 \n",
      "\n",
      "Epoch 13/29\n",
      "----------\n"
     ]
    },
    {
     "output_type": "stream",
     "name": "stderr",
     "text": [
      "100%|██████████| 37/37 [00:27<00:00,  1.33it/s]\n"
     ]
    },
    {
     "output_type": "stream",
     "name": "stdout",
     "text": [
      "train Loss: 0.4436 \n"
     ]
    },
    {
     "output_type": "stream",
     "name": "stderr",
     "text": [
      "100%|██████████| 11/11 [00:03<00:00,  3.08it/s]\n"
     ]
    },
    {
     "output_type": "stream",
     "name": "stdout",
     "text": [
      "val Loss: 0.5224 \n",
      "\n",
      "Epoch 14/29\n",
      "----------\n"
     ]
    },
    {
     "output_type": "stream",
     "name": "stderr",
     "text": [
      "100%|██████████| 37/37 [00:27<00:00,  1.33it/s]\n"
     ]
    },
    {
     "output_type": "stream",
     "name": "stdout",
     "text": [
      "train Loss: 0.4444 \n"
     ]
    },
    {
     "output_type": "stream",
     "name": "stderr",
     "text": [
      "100%|██████████| 11/11 [00:03<00:00,  3.04it/s]\n"
     ]
    },
    {
     "output_type": "stream",
     "name": "stdout",
     "text": [
      "val Loss: 0.4865 \n",
      "\n",
      "Epoch 15/29\n",
      "----------\n"
     ]
    },
    {
     "output_type": "stream",
     "name": "stderr",
     "text": [
      "100%|██████████| 37/37 [00:27<00:00,  1.33it/s]\n"
     ]
    },
    {
     "output_type": "stream",
     "name": "stdout",
     "text": [
      "train Loss: 0.4358 \n"
     ]
    },
    {
     "output_type": "stream",
     "name": "stderr",
     "text": [
      "100%|██████████| 11/11 [00:03<00:00,  3.12it/s]\n"
     ]
    },
    {
     "output_type": "stream",
     "name": "stdout",
     "text": [
      "val Loss: 0.4878 \n",
      "\n",
      "Epoch 16/29\n",
      "----------\n"
     ]
    },
    {
     "output_type": "stream",
     "name": "stderr",
     "text": [
      "100%|██████████| 37/37 [00:27<00:00,  1.32it/s]\n"
     ]
    },
    {
     "output_type": "stream",
     "name": "stdout",
     "text": [
      "train Loss: 0.4350 \n"
     ]
    },
    {
     "output_type": "stream",
     "name": "stderr",
     "text": [
      "100%|██████████| 11/11 [00:03<00:00,  2.99it/s]\n"
     ]
    },
    {
     "output_type": "stream",
     "name": "stdout",
     "text": [
      "val Loss: 0.4887 \n",
      "\n",
      "Epoch 17/29\n",
      "----------\n"
     ]
    },
    {
     "output_type": "stream",
     "name": "stderr",
     "text": [
      "100%|██████████| 37/37 [00:28<00:00,  1.30it/s]\n"
     ]
    },
    {
     "output_type": "stream",
     "name": "stdout",
     "text": [
      "train Loss: 0.4352 \n"
     ]
    },
    {
     "output_type": "stream",
     "name": "stderr",
     "text": [
      "100%|██████████| 11/11 [00:03<00:00,  3.07it/s]\n"
     ]
    },
    {
     "output_type": "stream",
     "name": "stdout",
     "text": [
      "val Loss: 0.4913 \n",
      "\n",
      "Epoch 18/29\n",
      "----------\n"
     ]
    },
    {
     "output_type": "stream",
     "name": "stderr",
     "text": [
      "100%|██████████| 37/37 [00:27<00:00,  1.32it/s]\n"
     ]
    },
    {
     "output_type": "stream",
     "name": "stdout",
     "text": [
      "train Loss: 0.4344 \n"
     ]
    },
    {
     "output_type": "stream",
     "name": "stderr",
     "text": [
      "100%|██████████| 11/11 [00:03<00:00,  2.75it/s]\n"
     ]
    },
    {
     "output_type": "stream",
     "name": "stdout",
     "text": [
      "val Loss: 0.4924 \n",
      "\n",
      "Epoch 19/29\n",
      "----------\n"
     ]
    },
    {
     "output_type": "stream",
     "name": "stderr",
     "text": [
      "100%|██████████| 37/37 [00:27<00:00,  1.34it/s]\n"
     ]
    },
    {
     "output_type": "stream",
     "name": "stdout",
     "text": [
      "train Loss: 0.4334 \n"
     ]
    },
    {
     "output_type": "stream",
     "name": "stderr",
     "text": [
      "100%|██████████| 11/11 [00:04<00:00,  2.46it/s]\n"
     ]
    },
    {
     "output_type": "stream",
     "name": "stdout",
     "text": [
      "val Loss: 0.4900 \n",
      "\n",
      "Epoch 20/29\n",
      "----------\n"
     ]
    },
    {
     "output_type": "stream",
     "name": "stderr",
     "text": [
      "100%|██████████| 37/37 [00:27<00:00,  1.35it/s]\n"
     ]
    },
    {
     "output_type": "stream",
     "name": "stdout",
     "text": [
      "train Loss: 0.4332 \n"
     ]
    },
    {
     "output_type": "stream",
     "name": "stderr",
     "text": [
      "100%|██████████| 11/11 [00:03<00:00,  2.76it/s]\n"
     ]
    },
    {
     "output_type": "stream",
     "name": "stdout",
     "text": [
      "val Loss: 0.4898 \n",
      "\n",
      "Epoch 21/29\n",
      "----------\n"
     ]
    },
    {
     "output_type": "stream",
     "name": "stderr",
     "text": [
      "100%|██████████| 37/37 [00:27<00:00,  1.35it/s]\n"
     ]
    },
    {
     "output_type": "stream",
     "name": "stdout",
     "text": [
      "train Loss: 0.4334 \n"
     ]
    },
    {
     "output_type": "stream",
     "name": "stderr",
     "text": [
      "100%|██████████| 11/11 [00:03<00:00,  3.14it/s]\n"
     ]
    },
    {
     "output_type": "stream",
     "name": "stdout",
     "text": [
      "val Loss: 0.4899 \n",
      "\n",
      "Epoch 22/29\n",
      "----------\n"
     ]
    },
    {
     "output_type": "stream",
     "name": "stderr",
     "text": [
      "100%|██████████| 37/37 [00:27<00:00,  1.34it/s]\n"
     ]
    },
    {
     "output_type": "stream",
     "name": "stdout",
     "text": [
      "train Loss: 0.4331 \n"
     ]
    },
    {
     "output_type": "stream",
     "name": "stderr",
     "text": [
      "100%|██████████| 11/11 [00:03<00:00,  3.08it/s]\n"
     ]
    },
    {
     "output_type": "stream",
     "name": "stdout",
     "text": [
      "val Loss: 0.4921 \n",
      "\n",
      "Epoch 23/29\n",
      "----------\n"
     ]
    },
    {
     "output_type": "stream",
     "name": "stderr",
     "text": [
      "100%|██████████| 37/37 [00:27<00:00,  1.34it/s]\n"
     ]
    },
    {
     "output_type": "stream",
     "name": "stdout",
     "text": [
      "train Loss: 0.4324 \n"
     ]
    },
    {
     "output_type": "stream",
     "name": "stderr",
     "text": [
      "100%|██████████| 11/11 [00:03<00:00,  3.10it/s]\n"
     ]
    },
    {
     "output_type": "stream",
     "name": "stdout",
     "text": [
      "val Loss: 0.4902 \n",
      "\n",
      "Epoch 24/29\n",
      "----------\n"
     ]
    },
    {
     "output_type": "stream",
     "name": "stderr",
     "text": [
      "100%|██████████| 37/37 [00:27<00:00,  1.34it/s]\n"
     ]
    },
    {
     "output_type": "stream",
     "name": "stdout",
     "text": [
      "train Loss: 0.4341 \n"
     ]
    },
    {
     "output_type": "stream",
     "name": "stderr",
     "text": [
      "100%|██████████| 11/11 [00:03<00:00,  3.10it/s]\n"
     ]
    },
    {
     "output_type": "stream",
     "name": "stdout",
     "text": [
      "val Loss: 0.4905 \n",
      "\n",
      "Epoch 25/29\n",
      "----------\n"
     ]
    },
    {
     "output_type": "stream",
     "name": "stderr",
     "text": [
      "100%|██████████| 37/37 [00:28<00:00,  1.31it/s]\n"
     ]
    },
    {
     "output_type": "stream",
     "name": "stdout",
     "text": [
      "train Loss: 0.4323 \n"
     ]
    },
    {
     "output_type": "stream",
     "name": "stderr",
     "text": [
      "100%|██████████| 11/11 [00:03<00:00,  3.10it/s]\n"
     ]
    },
    {
     "output_type": "stream",
     "name": "stdout",
     "text": [
      "val Loss: 0.4909 \n",
      "\n",
      "Epoch 26/29\n",
      "----------\n"
     ]
    },
    {
     "output_type": "stream",
     "name": "stderr",
     "text": [
      "100%|██████████| 37/37 [00:27<00:00,  1.34it/s]\n"
     ]
    },
    {
     "output_type": "stream",
     "name": "stdout",
     "text": [
      "train Loss: 0.4340 \n"
     ]
    },
    {
     "output_type": "stream",
     "name": "stderr",
     "text": [
      "100%|██████████| 11/11 [00:03<00:00,  3.10it/s]\n"
     ]
    },
    {
     "output_type": "stream",
     "name": "stdout",
     "text": [
      "val Loss: 0.4932 \n",
      "\n",
      "Epoch 27/29\n",
      "----------\n"
     ]
    },
    {
     "output_type": "stream",
     "name": "stderr",
     "text": [
      "100%|██████████| 37/37 [00:27<00:00,  1.32it/s]\n"
     ]
    },
    {
     "output_type": "stream",
     "name": "stdout",
     "text": [
      "train Loss: 0.4322 \n"
     ]
    },
    {
     "output_type": "stream",
     "name": "stderr",
     "text": [
      "100%|██████████| 11/11 [00:03<00:00,  3.08it/s]\n"
     ]
    },
    {
     "output_type": "stream",
     "name": "stdout",
     "text": [
      "val Loss: 0.4910 \n",
      "\n",
      "Epoch 28/29\n",
      "----------\n"
     ]
    },
    {
     "output_type": "stream",
     "name": "stderr",
     "text": [
      "100%|██████████| 37/37 [00:28<00:00,  1.32it/s]\n"
     ]
    },
    {
     "output_type": "stream",
     "name": "stdout",
     "text": [
      "train Loss: 0.4322 \n"
     ]
    },
    {
     "output_type": "stream",
     "name": "stderr",
     "text": [
      "100%|██████████| 11/11 [00:04<00:00,  2.58it/s]\n"
     ]
    },
    {
     "output_type": "stream",
     "name": "stdout",
     "text": [
      "val Loss: 0.4923 \n",
      "\n",
      "Epoch 29/29\n",
      "----------\n"
     ]
    },
    {
     "output_type": "stream",
     "name": "stderr",
     "text": [
      "100%|██████████| 37/37 [00:27<00:00,  1.34it/s]\n"
     ]
    },
    {
     "output_type": "stream",
     "name": "stdout",
     "text": [
      "train Loss: 0.4333 \n"
     ]
    },
    {
     "output_type": "stream",
     "name": "stderr",
     "text": [
      "100%|██████████| 11/11 [00:04<00:00,  2.49it/s]"
     ]
    },
    {
     "output_type": "stream",
     "name": "stdout",
     "text": [
      "val Loss: 0.4925 \n",
      "\n",
      "Training complete in 17m 53s\n",
      "Best val Acc: 0.483911\n"
     ]
    },
    {
     "output_type": "stream",
     "name": "stderr",
     "text": [
      "\n"
     ]
    }
   ],
   "source": [
    "model, train_acc, train_loss, val_acc, val_loss = train_model(model, criterion, optimizer, exp_lr_scheduler, wandb.config.epochs)"
   ]
  },
  {
   "cell_type": "code",
   "execution_count": null,
   "metadata": {
    "id": "x8EySBwepMpy"
   },
   "outputs": [],
   "source": [
    "torch.save(model, f\"/content/gdrive/MyDrive/models/test-no-dropout.pt\")"
   ]
  },
  {
   "cell_type": "markdown",
   "metadata": {
    "id": "SZn57Q2nluDc"
   },
   "source": [
    "### Evaluation"
   ]
  },
  {
   "cell_type": "code",
   "execution_count": null,
   "metadata": {
    "id": "5Zu9pxbAFcTK"
   },
   "outputs": [],
   "source": [
    "model_path = \"/content/gdrive/MyDrive/models/test-no-dropout.pt\"\n",
    "device = torch.device('cuda' if torch.cuda.is_available() else 'cpu')\n",
    "model = torch.load(model_path, device)"
   ]
  },
  {
   "cell_type": "code",
   "execution_count": null,
   "metadata": {
    "id": "xjWAQ0JHFdnH"
   },
   "outputs": [],
   "source": [
    "preds = []\n",
    "true_labels = []\n",
    "inputs = []\n",
    "with torch.no_grad():\n",
    "  for inputs1, inputs2, labels in dataloaders['test']:\n",
    "    inputs1 = inputs1.to(device)\n",
    "    inputs2 = inputs2.to(device)\n",
    "    for index in range(len(inputs1)):\n",
    "      inputs += [(inputs1[index], inputs2[index])]\n",
    "    labels = labels.to(device)\n",
    "    true_labels += labels\n",
    "    with torch.set_grad_enabled(False):\n",
    "      outputs = model(inputs1, inputs2)\n",
    "      preds += outputs"
   ]
  },
  {
   "cell_type": "code",
   "execution_count": null,
   "metadata": {
    "id": "wNQG1PefbL9b",
    "colab": {
     "base_uri": "https://localhost:8080/"
    },
    "outputId": "148a1583-3ce4-4583-d47c-c4c85ca1ac93",
    "pycharm": {
     "is_executing": true
    }
   },
   "outputs": [],
   "source": [
    "print(preds)"
   ]
  },
  {
   "cell_type": "code",
   "execution_count": null,
   "metadata": {
    "id": "bHoV38TYFfRz"
   },
   "outputs": [],
   "source": [
    "acc = 0\n",
    "predicted_labels = []\n",
    "for index in range(len(dataset_test)):\n",
    "  label = int(true_labels[index])\n",
    "  true_labels[index] = int(true_labels[index])\n",
    "  predicted_labels.append(int(label) if preds[index][label] >= 0.5 else abs(int(label-1)))\n",
    "  if preds[index][label] >= 0.5:\n",
    "    acc += 1\n",
    "  # else:\n",
    "  #   print('actual: ', label,'pred: ', preds[index], index, '----------------')\n",
    "  #   print(test_df.loc[index][0], test_df.loc[index][1], test_df.loc[index][2])\n",
    "  #   pil_image = torchvision.transforms.ToPILImage()(inputs[index][0])\n",
    "  #   pil_image.show()\n",
    "  #   pil_image = torchvision.transforms.ToPILImage()(inputs[index][1])\n",
    "  #   pil_image.show()\n",
    " \n",
    "  # print(\"Predicted: \", preds[index])\n",
    "  print(\"Actual Label: \",label, \" Predicted: \", preds[index])"
   ]
  },
  {
   "cell_type": "code",
   "execution_count": null,
   "metadata": {
    "id": "O_xDfj8yAMJJ",
    "colab": {
     "base_uri": "https://localhost:8080/"
    },
    "outputId": "2bedd1ae-1ef5-4d0d-9281-d4267acec751"
   },
   "outputs": [
    {
     "output_type": "stream",
     "name": "stdout",
     "text": [
      "correct predicitons 281 out of 332\n"
     ]
    }
   ],
   "source": [
    "print('correct predicitons '+ str(acc) + ' out of ' + str(len(dataset_test)))"
   ]
  },
  {
   "cell_type": "code",
   "execution_count": null,
   "metadata": {
    "id": "FLn8FH0M8EFG",
    "colab": {
     "base_uri": "https://localhost:8080/"
    },
    "outputId": "15a5da98-fbfe-4f7c-8e72-f744e0c5e09c"
   },
   "outputs": [
    {
     "output_type": "stream",
     "name": "stdout",
     "text": [
      "F1 score: 0.8495575221238938\n"
     ]
    }
   ],
   "source": [
    "# compute F1 score\n",
    "from sklearn.metrics import f1_score\n",
    "\n",
    "f1 = f1_score(true_labels, predicted_labels)\n",
    "print(\"F1 score:\", f1)"
   ]
  },
  {
   "cell_type": "markdown",
   "metadata": {
    "id": "17qnP-2vES9z"
   },
   "source": [
    "### Get top 10 matches for a piece"
   ]
  },
  {
   "cell_type": "code",
   "execution_count": null,
   "metadata": {
    "id": "9uGqNUg1Rkic"
   },
   "outputs": [],
   "source": [
    "model_path = \"/content/gdrive/MyDrive/models/test-no-dropout.pt\"\n",
    "device = torch.device('cuda' if torch.cuda.is_available() else 'cpu')\n",
    "model = torch.load(model_path, device)"
   ]
  },
  {
   "cell_type": "code",
   "execution_count": null,
   "metadata": {
    "id": "p0pjxWLGGEDL"
   },
   "outputs": [],
   "source": [
    "preds = []\n",
    "pairs = []\n",
    "top_5 = {}\n",
    "id=4\n",
    "with torch.no_grad():\n",
    "  img_compared = dataset_test.__getitem__(id)[0]\n",
    "  first_label = dataset_test.__getitem__(id)[2]\n",
    "  first_img = dataset_test.__getitem__(id)[0]\n",
    "  first_img = torch.Tensor.reshape(first_img.to(device), (1,1,148,64))\n",
    "\n",
    "  for i in range(len(dataset_test)):\n",
    "    x = dataset_test.__getitem__(i)\n",
    "    pairs.append(x[1].to(device))\n",
    "\n",
    "    second_img = torch.Tensor.reshape(x[1].to(device), (1,1,148,64))\n",
    "    with torch.set_grad_enabled(False):\n",
    "      outputs = model(first_img, second_img)\n",
    "      preds += outputs\n",
    "      for output in outputs:\n",
    "        if output[0]<output[1]:\n",
    "          top_5[float(output[1])] = i"
   ]
  },
  {
   "cell_type": "code",
   "execution_count": null,
   "metadata": {
    "colab": {
     "base_uri": "https://localhost:8080/"
    },
    "id": "9Sp3jHDNKev4",
    "outputId": "eb6c8747-5f48-4bf5-89af-25ceb1f8c735"
   },
   "outputs": [
    {
     "output_type": "display_data",
     "data": {
      "text/plain": [
       "<PIL.Image.Image image mode=L size=64x148 at 0x7FF8F1A53880>"
      ],
      "image/png": "[encoded data removed]"
     },
     "metadata": {}
    },
    {
     "output_type": "stream",
     "name": "stdout",
     "text": [
      "tensor([7.6851e-05, 9.9992e-01], device='cuda:0') tensor(1., dtype=torch.float64)\n"
     ]
    },
    {
     "output_type": "display_data",
     "data": {
      "text/plain": [
       "<PIL.Image.Image image mode=L size=64x148 at 0x7FF8F1A537F0>"
      ],
      "image/png": "[encoded data removed]"
     },
     "metadata": {}
    },
    {
     "output_type": "stream",
     "name": "stdout",
     "text": [
      "tensor([2.5592e-05, 9.9997e-01], device='cuda:0')\n"
     ]
    },
    {
     "output_type": "display_data",
     "data": {
      "text/plain": [
       "<PIL.Image.Image image mode=L size=64x148 at 0x7FF8F1A532E0>"
      ],
      "image/png": "[encoded data removed]"
     },
     "metadata": {}
    },
    {
     "output_type": "stream",
     "name": "stdout",
     "text": [
      "tensor([3.0024e-05, 9.9997e-01], device='cuda:0')\n"
     ]
    },
    {
     "output_type": "display_data",
     "data": {
      "text/plain": [
       "<PIL.Image.Image image mode=L size=64x148 at 0x7FF8F1A51930>"
      ],
      "image/png": "[encoded data removed]"
     },
     "metadata": {}
    },
    {
     "output_type": "stream",
     "name": "stdout",
     "text": [
      "tensor([4.4922e-05, 9.9996e-01], device='cuda:0')\n"
     ]
    },
    {
     "output_type": "display_data",
     "data": {
      "text/plain": [
       "<PIL.Image.Image image mode=L size=64x148 at 0x7FF8F1A538E0>"
      ],
      "image/png": "[encoded data removed]"
     },
     "metadata": {}
    },
    {
     "output_type": "stream",
     "name": "stdout",
     "text": [
      "tensor([7.6851e-05, 9.9992e-01], device='cuda:0')\n"
     ]
    },
    {
     "output_type": "display_data",
     "data": {
      "text/plain": [
       "<PIL.Image.Image image mode=L size=64x148 at 0x7FF8F1A51930>"
      ],
      "image/png": "[encoded data removed]"
     },
     "metadata": {}
    },
    {
     "output_type": "stream",
     "name": "stdout",
     "text": [
      "tensor([8.4154e-05, 9.9992e-01], device='cuda:0')\n"
     ]
    },
    {
     "output_type": "display_data",
     "data": {
      "text/plain": [
       "<PIL.Image.Image image mode=L size=64x148 at 0x7FF8F1A53D90>"
      ],
      "image/png": "[encoded data removed]"
     },
     "metadata": {}
    },
    {
     "output_type": "stream",
     "name": "stdout",
     "text": [
      "tensor([1.0120e-04, 9.9990e-01], device='cuda:0')\n"
     ]
    },
    {
     "output_type": "display_data",
     "data": {
      "text/plain": [
       "<PIL.Image.Image image mode=L size=64x148 at 0x7FF8F1A51E70>"
      ],
      "image/png": "[encoded data removed]"
     },
     "metadata": {}
    },
    {
     "output_type": "stream",
     "name": "stdout",
     "text": [
      "tensor([1.1616e-04, 9.9988e-01], device='cuda:0')\n"
     ]
    },
    {
     "output_type": "display_data",
     "data": {
      "text/plain": [
       "<PIL.Image.Image image mode=L size=64x148 at 0x7FF8F1A53640>"
      ],
      "image/png": "[encoded data removed]"
     },
     "metadata": {}
    },
    {
     "output_type": "stream",
     "name": "stdout",
     "text": [
      "tensor([1.2418e-04, 9.9988e-01], device='cuda:0')\n"
     ]
    },
    {
     "output_type": "display_data",
     "data": {
      "text/plain": [
       "<PIL.Image.Image image mode=L size=64x148 at 0x7FF8F1A51E70>"
      ],
      "image/png": "[encoded data removed]"
     },
     "metadata": {}
    },
    {
     "output_type": "stream",
     "name": "stdout",
     "text": [
      "tensor([1.5449e-04, 9.9985e-01], device='cuda:0')\n"
     ]
    },
    {
     "output_type": "display_data",
     "data": {
      "text/plain": [
       "<PIL.Image.Image image mode=L size=64x148 at 0x7FF8F1A53640>"
      ],
      "image/png": "[encoded data removed]"
     },
     "metadata": {}
    },
    {
     "output_type": "stream",
     "name": "stdout",
     "text": [
      "tensor([1.7059e-04, 9.9983e-01], device='cuda:0')\n"
     ]
    },
    {
     "output_type": "display_data",
     "data": {
      "text/plain": [
       "<PIL.Image.Image image mode=L size=64x148 at 0x7FF8F1A51E70>"
      ],
      "image/png": "[encoded data removed]"
     },
     "metadata": {}
    }
   ],
   "source": [
    "from PIL import Image\n",
    "\n",
    "pil_image = torchvision.transforms.ToPILImage()(img_compared)\n",
    "pil_image.show()\n",
    "\n",
    "print(preds[id], first_label)\n",
    "pil_image = torchvision.transforms.ToPILImage()(pairs[id])\n",
    "pil_image.show()\n",
    "\n",
    "sorted_keys = sorted(top_5.keys(),reverse=True)\n",
    "for i in sorted_keys[:10]:\n",
    "  print(preds[top_5[i]])\n",
    "  pil_image = torchvision.transforms.ToPILImage()(pairs[top_5[i]])\n",
    "  pil_image.show()"
   ]
  },
  {
   "cell_type": "markdown",
   "metadata": {
    "id": "0qnHk9dvJgFa"
   },
   "source": [
    "### TOP_10 Evaluation"
   ]
  },
  {
   "cell_type": "code",
   "execution_count": null,
   "metadata": {
    "id": "s74Ty_kOJe9y"
   },
   "outputs": [],
   "source": [
    "preds = []\n",
    "pairs = []\n",
    "list_top_5 = []\n",
    "with torch.no_grad():\n",
    "  for id in range(len(dataset_test)):\n",
    "    top_5 = {}\n",
    "    img_compared = dataset_test.__getitem__(id)[0]\n",
    "    img_compared = torch.Tensor.reshape(img_compared.to(device), (1,1,148,64))\n",
    "    perfect_pair = dataset_test.__getitem__(id)[1].to(device)\n",
    "    is_match = int(dataset_test.__getitem__(id)[2])\n",
    "\n",
    "    if is_match:\n",
    "      for i in range(len(dataset_test)):\n",
    "        x = dataset_test.__getitem__(i)\n",
    "        # pairs.append(x[1].to(device))\n",
    "\n",
    "        second_img = torch.Tensor.reshape(x[1].to(device), (1,1,148,64))\n",
    "        with torch.set_grad_enabled(False):\n",
    "          outputs = model(img_compared, second_img)\n",
    "          preds += outputs\n",
    "          for output in outputs:\n",
    "            if output[0]<output[1]:\n",
    "              top_5[float(output[1])] = i\n",
    "        \n",
    "      list_top_5.append(top_5)\n",
    "    else:\n",
    "      list_top_5.append({})"
   ]
  },
  {
   "cell_type": "code",
   "execution_count": null,
   "metadata": {
    "colab": {
     "base_uri": "https://localhost:8080/"
    },
    "id": "K1G_iRIgK2JQ",
    "outputId": "6e2a9d5c-7a87-4f0b-aeca-2cf06443a516",
    "pycharm": {
     "is_executing": true
    }
   },
   "outputs": [],
   "source": [
    "print(list_top_5[0])\n",
    "test_df = pd.read_csv('/content/gdrive/MyDrive/puzzle_pieces/puzzle_pairs_test.csv')"
   ]
  },
  {
   "cell_type": "code",
   "execution_count": null,
   "metadata": {
    "colab": {
     "base_uri": "https://localhost:8080/"
    },
    "id": "skeMqWAG1bL7",
    "outputId": "1ffc3976-c412-46d6-d4b6-7dbca56c32e7"
   },
   "outputs": [
    {
     "output_type": "stream",
     "name": "stdout",
     "text": [
      "162 20\n"
     ]
    }
   ],
   "source": [
    "total=0\n",
    "correct=0\n",
    "for id in range(len(dataset_test)): \n",
    "  label = dataset_test.__getitem__(id)[2]\n",
    "  # print(test_df.loc[id][0], test_df.loc[id][1], int(label), preds[id])\n",
    "  if int(label) == 1:\n",
    "    total += 1\n",
    "    top_5_id = list_top_5[id]\n",
    "    sorted_keys = sorted(top_5_id.keys(),reverse=True)\n",
    "    for i in sorted_keys[:10]:\n",
    "      # print(test_df.loc[top_5_id[i]][1], i)\n",
    "      if test_df.loc[top_5_id[i]][1] == test_df.loc[id][1]:\n",
    "        correct += 1\n",
    "  # print(\"-------------------\")\n",
    "print(total, correct)"
   ]
  },
  {
   "cell_type": "markdown",
   "source": [
    "### Test on new images "
   ],
   "metadata": {
    "id": "fXzuAKN4SKDT"
   }
  },
  {
   "cell_type": "code",
   "source": [
    "model_path = \"/content/gdrive/MyDrive/models/inverted_img_no_dropout.pt\"\n",
    "device = torch.device('cuda' if torch.cuda.is_available() else 'cpu')\n",
    "model = torch.load(model_path, device)"
   ],
   "metadata": {
    "id": "Mm8Nsq0mSQis"
   },
   "execution_count": null,
   "outputs": []
  },
  {
   "cell_type": "code",
   "source": [
    "preds=[]\n",
    "with torch.no_grad():\n",
    "  for id in range(1):\n",
    "    img1 = Image.open(\"/content/v3.png\").convert('L')\n",
    "    w,h = 148,148\n",
    "    img1 = transforms.functional.crop(img1,0,int(w/2)+10,h,int(w/2)-10) # top, left, height, width\n",
    "    img1.show()\n",
    "    img1 = transforms.Compose([\n",
    "            transforms.ToTensor()\n",
    "        ])(img1)\n",
    "    img1_tensor = torch.Tensor.reshape(img1.to(device), (1,1,148,64))\n",
    "\n",
    "    img2 = PIL.ImageOps.invert(Image.open(\"/content/v2.png\").convert('L'))\n",
    "    img2 = transforms.functional.crop(img2,0,0,h,int(w/2)-10)\n",
    "    img2 = transforms.Compose([\n",
    "            transforms.ToTensor()\n",
    "        ])(img2)\n",
    "    img2_tensor = torch.Tensor.reshape(img2.to(device), (1,1,148,64))\n",
    "    \n",
    "\n",
    "    with torch.set_grad_enabled(False):\n",
    "      outputs = model(img1_tensor, img2_tensor)\n",
    "      preds += outputs"
   ],
   "metadata": {
    "id": "Fy4gpDUoFVj3",
    "colab": {
     "base_uri": "https://localhost:8080/",
     "height": 165
    },
    "outputId": "66c12395-dd7d-4998-db66-17b2e0389720",
    "pycharm": {
     "is_executing": true
    }
   },
   "execution_count": null,
   "outputs": []
  },
  {
   "cell_type": "code",
   "source": [
    "print(preds)"
   ],
   "metadata": {
    "colab": {
     "base_uri": "https://localhost:8080/"
    },
    "id": "ZXrbOhSdSMTM",
    "outputId": "cea14ddc-aabf-4a21-fdc7-40a15fa27492"
   },
   "execution_count": null,
   "outputs": [
    {
     "output_type": "stream",
     "name": "stdout",
     "text": [
      "[tensor([0.4710, 0.5290], device='cuda:0')]\n"
     ]
    }
   ]
  }
 ],
 "metadata": {
  "accelerator": "GPU",
  "colab": {
   "collapsed_sections": [
    "TSe6hfLsMIh1",
    "mhrP5H3HMqd3",
    "Dr2W_Ehcdk7p",
    "Zy6r_Q8lazrD",
    "SZn57Q2nluDc",
    "17qnP-2vES9z",
    "0qnHk9dvJgFa",
    "fXzuAKN4SKDT"
   ],
   "provenance": []
  },
  "gpuClass": "standard",
  "kernelspec": {
   "display_name": "Python 3",
   "name": "python3"
  },
  "language_info": {
   "name": "python"
  }
 },
 "nbformat": 4,
 "nbformat_minor": 0
}
